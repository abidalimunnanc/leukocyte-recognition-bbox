{
 "cells": [
  {
   "cell_type": "code",
   "execution_count": 1,
   "id": "36881ddd",
   "metadata": {
    "execution": {
     "iopub.execute_input": "2025-01-04T08:58:13.160550Z",
     "iopub.status.busy": "2025-01-04T08:58:13.160129Z",
     "iopub.status.idle": "2025-01-04T08:58:18.785889Z",
     "shell.execute_reply": "2025-01-04T08:58:18.784863Z"
    },
    "papermill": {
     "duration": 5.634951,
     "end_time": "2025-01-04T08:58:18.787465",
     "exception": false,
     "start_time": "2025-01-04T08:58:13.152514",
     "status": "completed"
    },
    "tags": []
   },
   "outputs": [
    {
     "name": "stdout",
     "output_type": "stream",
     "text": [
      "\u001b[2K   \u001b[90m━━━━━━━━━━━━━━━━━━━━━━━━━━━━━━━━━━━━━━━━\u001b[0m \u001b[32m905.3/905.3 kB\u001b[0m \u001b[31m31.2 MB/s\u001b[0m eta \u001b[36m0:00:00\u001b[0m\r\n",
      "\u001b[?25h"
     ]
    }
   ],
   "source": [
    "!pip install -q ultralytics"
   ]
  },
  {
   "cell_type": "code",
   "execution_count": null,
   "id": "5286f8b5",
   "metadata": {
    "execution": {
     "iopub.execute_input": "2025-01-04T08:58:18.795734Z",
     "iopub.status.busy": "2025-01-04T08:58:18.795444Z",
     "iopub.status.idle": "2025-01-04T09:00:23.204643Z",
     "shell.execute_reply": "2025-01-04T09:00:23.203401Z"
    },
    "papermill": {
     "duration": 124.415372,
     "end_time": "2025-01-04T09:00:23.206587",
     "exception": false,
     "start_time": "2025-01-04T08:58:18.791215",
     "status": "completed"
    },
    "tags": []
   },
   "outputs": [],
   "source": [
    "!unzip -q /home/input/yolov8-with-preprocessed/_output_.zip\n"
   ]
  },
  {
   "cell_type": "code",
   "execution_count": null,
   "id": "6c6034d8",
   "metadata": {
    "papermill": {
     "duration": 0.003197,
     "end_time": "2025-01-04T09:00:23.213795",
     "exception": false,
     "start_time": "2025-01-04T09:00:23.210598",
     "status": "completed"
    },
    "tags": []
   },
   "outputs": [],
   "source": []
  },
  {
   "cell_type": "code",
   "execution_count": null,
   "id": "12563020",
   "metadata": {
    "execution": {
     "iopub.execute_input": "2025-01-04T09:00:23.221490Z",
     "iopub.status.busy": "2025-01-04T09:00:23.221134Z",
     "iopub.status.idle": "2025-01-04T09:00:27.650672Z",
     "shell.execute_reply": "2025-01-04T09:00:27.649644Z"
    },
    "papermill": {
     "duration": 4.435173,
     "end_time": "2025-01-04T09:00:27.652219",
     "exception": false,
     "start_time": "2025-01-04T09:00:23.217046",
     "status": "completed"
    },
    "tags": []
   },
   "outputs": [
    {
     "name": "stdout",
     "output_type": "stream",
     "text": [
      "Creating new Ultralytics Settings v0.0.6 file ✅ \n",
      "View Ultralytics Settings with 'yolo settings' or at '/root/.config/Ultralytics/settings.json'\n",
      "Update Settings with 'yolo settings key=value', i.e. 'yolo settings runs_dir=path/to/dir'. For help see https://docs.ultralytics.com/quickstart/#ultralytics-settings.\n"
     ]
    }
   ],
   "source": [
    "from ultralytics import YOLO\n",
    "\n",
    "# Load the trained model\n",
    "model = YOLO('/home/working/runs/detect/yolo8_class_bbox/weights/best.pt', verbose=False)  # Update the path as necessary\n"
   ]
  },
  {
   "cell_type": "code",
   "execution_count": null,
   "id": "6c322fba",
   "metadata": {
    "execution": {
     "iopub.execute_input": "2025-01-04T09:00:27.660369Z",
     "iopub.status.busy": "2025-01-04T09:00:27.659864Z",
     "iopub.status.idle": "2025-01-04T09:00:28.494273Z",
     "shell.execute_reply": "2025-01-04T09:00:28.493175Z"
    },
    "papermill": {
     "duration": 0.839837,
     "end_time": "2025-01-04T09:00:28.495707",
     "exception": false,
     "start_time": "2025-01-04T09:00:27.655870",
     "status": "completed"
    },
    "tags": []
   },
   "outputs": [
    {
     "name": "stdout",
     "output_type": "stream",
     "text": [
      "Size of the test file: (22689, 2)\n"
     ]
    }
   ],
   "source": [
    "import pandas as pd\n",
    "import numpy as np\n",
    "test = pd.read_csv('/home/input/csv-data-clyclo/cytologia-data-1732098640162 (1).csv')\n",
    "\n",
    "\n",
    "print(f\"Size of the test file: {test.shape}\")"
   ]
  },
  {
   "cell_type": "code",
   "execution_count": 5,
   "id": "9f828dfd",
   "metadata": {
    "execution": {
     "iopub.execute_input": "2025-01-04T09:00:28.622296Z",
     "iopub.status.busy": "2025-01-04T09:00:28.621838Z",
     "iopub.status.idle": "2025-01-04T09:00:28.628739Z",
     "shell.execute_reply": "2025-01-04T09:00:28.627850Z"
    },
    "papermill": {
     "duration": 0.131129,
     "end_time": "2025-01-04T09:00:28.630348",
     "exception": false,
     "start_time": "2025-01-04T09:00:28.499219",
     "status": "completed"
    },
    "tags": []
   },
   "outputs": [],
   "source": [
    "# Initialize an empty DataFrame to store results\n",
    "results_df = pd.DataFrame(columns=['NAME','x1', 'y1', 'x2', 'y2', 'class'])"
   ]
  },
  {
   "cell_type": "code",
   "execution_count": 6,
   "id": "5e975304",
   "metadata": {
    "execution": {
     "iopub.execute_input": "2025-01-04T09:00:28.638123Z",
     "iopub.status.busy": "2025-01-04T09:00:28.637855Z",
     "iopub.status.idle": "2025-01-04T09:00:28.709033Z",
     "shell.execute_reply": "2025-01-04T09:00:28.708272Z"
    },
    "papermill": {
     "duration": 0.076559,
     "end_time": "2025-01-04T09:00:28.710527",
     "exception": false,
     "start_time": "2025-01-04T09:00:28.633968",
     "status": "completed"
    },
    "tags": []
   },
   "outputs": [
    {
     "data": {
      "text/html": [
       "<div>\n",
       "<style scoped>\n",
       "    .dataframe tbody tr th:only-of-type {\n",
       "        vertical-align: middle;\n",
       "    }\n",
       "\n",
       "    .dataframe tbody tr th {\n",
       "        vertical-align: top;\n",
       "    }\n",
       "\n",
       "    .dataframe thead th {\n",
       "        text-align: right;\n",
       "    }\n",
       "</style>\n",
       "<table border=\"1\" class=\"dataframe\">\n",
       "  <thead>\n",
       "    <tr style=\"text-align: right;\">\n",
       "      <th></th>\n",
       "      <th>NAME</th>\n",
       "      <th>x1</th>\n",
       "      <th>y1</th>\n",
       "      <th>x2</th>\n",
       "      <th>y2</th>\n",
       "      <th>class</th>\n",
       "    </tr>\n",
       "  </thead>\n",
       "  <tbody>\n",
       "  </tbody>\n",
       "</table>\n",
       "</div>"
      ],
      "text/plain": [
       "Empty DataFrame\n",
       "Columns: [NAME, x1, y1, x2, y2, class]\n",
       "Index: []"
      ]
     },
     "execution_count": 6,
     "metadata": {},
     "output_type": "execute_result"
    }
   ],
   "source": [
    "results_df"
   ]
  },
  {
   "cell_type": "code",
   "execution_count": null,
   "id": "94a8d0b7",
   "metadata": {
    "execution": {
     "iopub.execute_input": "2025-01-04T09:00:28.719017Z",
     "iopub.status.busy": "2025-01-04T09:00:28.718740Z",
     "iopub.status.idle": "2025-01-04T09:08:54.715906Z",
     "shell.execute_reply": "2025-01-04T09:08:54.715088Z"
    },
    "papermill": {
     "duration": 506.003095,
     "end_time": "2025-01-04T09:08:54.717629",
     "exception": false,
     "start_time": "2025-01-04T09:00:28.714534",
     "status": "completed"
    },
    "tags": []
   },
   "outputs": [
    {
     "name": "stdout",
     "output_type": "stream",
     "text": [
      "0\n"
     ]
    },
    {
     "name": "stderr",
     "output_type": "stream",
     "text": [
      "<ipython-input-7-372b0aafa8e1>:22: FutureWarning: The behavior of DataFrame concatenation with empty or all-NA entries is deprecated. In a future version, this will no longer exclude empty or all-NA columns when determining the result dtypes. To retain the old behavior, exclude the relevant entries before the concat operation.\n",
      "  results_df = pd.concat([results_df, pd.DataFrame({'NAME':[filename],'x1': [x1], 'y1': [y1], 'x2': [x2], 'y2': [y2], 'class': [class_name]})], ignore_index=True)\n"
     ]
    },
    {
     "name": "stdout",
     "output_type": "stream",
     "text": [
      "1000\n",
      "2000\n",
      "3000\n",
      "4000\n",
      "5000\n",
      "6000\n",
      "7000\n",
      "8000\n",
      "9000\n",
      "10000\n",
      "11000\n",
      "12000\n",
      "13000\n",
      "14000\n",
      "15000\n",
      "16000\n",
      "17000\n",
      "18000\n",
      "19000\n",
      "20000\n",
      "21000\n",
      "22000\n"
     ]
    }
   ],
   "source": [
    "import os\n",
    "# Iterate over each image path\n",
    "base_dir = '/home/input/cytol-gia-data/dataset_cytologia'\n",
    "for i, filename in enumerate(test['NAME']):\n",
    "    if i % 1000 == 0:\n",
    "        print(i)\n",
    "\n",
    "    image_path = os.path.join(base_dir, filename)\n",
    "    # Perform prediction\n",
    "    results = model.predict(source=image_path,  verbose=False)\n",
    "    \n",
    "    # Iterate over results\n",
    "    for result in results:\n",
    "        boxes = result.boxes  # Bounding boxes\n",
    "        for box in boxes:\n",
    "            # Extract coordinates in (x1, y1, x2, y2) format\n",
    "            x1, y1, x2, y2 = box.xyxy[0].tolist()\n",
    "            # Extract class ID and convert to class name\n",
    "            class_id = int(box.cls[0])\n",
    "            class_name = model.names[class_id]\n",
    "            # Append the result as a new row in the DataFrame\n",
    "    results_df = pd.concat([results_df, pd.DataFrame({'NAME':[filename],'x1': [x1], 'y1': [y1], 'x2': [x2], 'y2': [y2], 'class': [class_name]})], ignore_index=True)\n",
    "test_final = pd.merge(left = test , right = results_df, on = 'NAME', how = 'inner')"
   ]
  },
  {
   "cell_type": "code",
   "execution_count": 8,
   "id": "c8e2096b",
   "metadata": {
    "execution": {
     "iopub.execute_input": "2025-01-04T09:08:54.728207Z",
     "iopub.status.busy": "2025-01-04T09:08:54.727789Z",
     "iopub.status.idle": "2025-01-04T09:08:54.733923Z",
     "shell.execute_reply": "2025-01-04T09:08:54.733121Z"
    },
    "papermill": {
     "duration": 0.012674,
     "end_time": "2025-01-04T09:08:54.735202",
     "exception": false,
     "start_time": "2025-01-04T09:08:54.722528",
     "status": "completed"
    },
    "tags": []
   },
   "outputs": [],
   "source": [
    "columns_to_convert = ['x1', 'y1', 'x2', 'y2']\n",
    "# Round and convert only the specified columns\n",
    "test_final[columns_to_convert] = test_final[columns_to_convert].round().astype(np.int64)"
   ]
  },
  {
   "cell_type": "code",
   "execution_count": 9,
   "id": "c8d86f10",
   "metadata": {
    "execution": {
     "iopub.execute_input": "2025-01-04T09:08:54.744787Z",
     "iopub.status.busy": "2025-01-04T09:08:54.744565Z",
     "iopub.status.idle": "2025-01-04T09:08:54.750509Z",
     "shell.execute_reply": "2025-01-04T09:08:54.749493Z"
    },
    "papermill": {
     "duration": 0.012315,
     "end_time": "2025-01-04T09:08:54.752003",
     "exception": false,
     "start_time": "2025-01-04T09:08:54.739688",
     "status": "completed"
    },
    "tags": []
   },
   "outputs": [
    {
     "name": "stdout",
     "output_type": "stream",
     "text": [
      "   trustii_id            NAME   x1   y1   x2   y2  class\n",
      "0       43232  681daf42-3.jpg  117  116  248  243    LLC\n",
      "1       65979  172bf8a5-e.jpg  100   98  230  267  Lysee\n",
      "2       60083  179a21ee-4.jpg  100   92  274  279      M\n",
      "3        7302  f15e265d-6.jpg  101   99  262  267      M\n",
      "4       31846  94cbe9cc-3.jpg  118  112  245  254    PNN\n"
     ]
    }
   ],
   "source": [
    "print(test_final.head())"
   ]
  },
  {
   "cell_type": "code",
   "execution_count": 10,
   "id": "1752dbb3",
   "metadata": {
    "execution": {
     "iopub.execute_input": "2025-01-04T09:08:54.761707Z",
     "iopub.status.busy": "2025-01-04T09:08:54.761496Z",
     "iopub.status.idle": "2025-01-04T09:08:54.765372Z",
     "shell.execute_reply": "2025-01-04T09:08:54.764502Z"
    },
    "papermill": {
     "duration": 0.010043,
     "end_time": "2025-01-04T09:08:54.766719",
     "exception": false,
     "start_time": "2025-01-04T09:08:54.756676",
     "status": "completed"
    },
    "tags": []
   },
   "outputs": [
    {
     "name": "stdout",
     "output_type": "stream",
     "text": [
      "Size of the test file: (29065, 7)\n"
     ]
    }
   ],
   "source": [
    "print(f\"Size of the test file: {test_final.shape}\")"
   ]
  },
  {
   "cell_type": "code",
   "execution_count": null,
   "id": "e6d0a947",
   "metadata": {},
   "outputs": [],
   "source": [
    "# Remove duplicates based on the 'id' column, keeping the first occurrence\n",
    "df_cleaned = test_final.drop_duplicates(subset='trustii_id', keep='first')\n",
    "print(df_cleaned.shape)\n",
    "print(df_cleaned.isna().sum())"
   ]
  },
  {
   "cell_type": "code",
   "execution_count": null,
   "id": "6f374386",
   "metadata": {},
   "outputs": [],
   "source": []
  },
  {
   "cell_type": "code",
   "execution_count": null,
   "id": "1e84584d",
   "metadata": {
    "execution": {
     "iopub.execute_input": "2025-01-04T09:08:54.776541Z",
     "iopub.status.busy": "2025-01-04T09:08:54.776318Z",
     "iopub.status.idle": "2025-01-04T09:08:54.780590Z",
     "shell.execute_reply": "2025-01-04T09:08:54.779677Z"
    },
    "papermill": {
     "duration": 0.01044,
     "end_time": "2025-01-04T09:08:54.781769",
     "exception": false,
     "start_time": "2025-01-04T09:08:54.771329",
     "status": "completed"
    },
    "tags": []
   },
   "outputs": [
    {
     "name": "stdout",
     "output_type": "stream",
     "text": [
      "trustii_id     int64\n",
      "NAME          object\n",
      "x1             int64\n",
      "y1             int64\n",
      "x2             int64\n",
      "y2             int64\n",
      "class         object\n",
      "dtype: object\n"
     ]
    }
   ],
   "source": [
    "print(df_cleaned.dtypes)"
   ]
  },
  {
   "cell_type": "code",
   "execution_count": null,
   "id": "96babde7",
   "metadata": {
    "execution": {
     "iopub.execute_input": "2025-01-04T09:08:54.792057Z",
     "iopub.status.busy": "2025-01-04T09:08:54.791816Z",
     "iopub.status.idle": "2025-01-04T09:08:54.800271Z",
     "shell.execute_reply": "2025-01-04T09:08:54.799395Z"
    },
    "papermill": {
     "duration": 0.014923,
     "end_time": "2025-01-04T09:08:54.801667",
     "exception": false,
     "start_time": "2025-01-04T09:08:54.786744",
     "status": "completed"
    },
    "tags": []
   },
   "outputs": [
    {
     "name": "stdout",
     "output_type": "stream",
     "text": [
      "trustii_id    0\n",
      "NAME          0\n",
      "x1            0\n",
      "y1            0\n",
      "x2            0\n",
      "y2            0\n",
      "class         0\n",
      "dtype: int64\n"
     ]
    }
   ],
   "source": [
    "print(df_cleaned.isna().sum())"
   ]
  },
  {
   "cell_type": "code",
   "execution_count": null,
   "id": "8d855bf4",
   "metadata": {
    "execution": {
     "iopub.execute_input": "2025-01-04T09:08:54.812382Z",
     "iopub.status.busy": "2025-01-04T09:08:54.812055Z",
     "iopub.status.idle": "2025-01-04T09:08:54.867073Z",
     "shell.execute_reply": "2025-01-04T09:08:54.866043Z"
    },
    "papermill": {
     "duration": 0.061777,
     "end_time": "2025-01-04T09:08:54.868483",
     "exception": false,
     "start_time": "2025-01-04T09:08:54.806706",
     "status": "completed"
    },
    "tags": []
   },
   "outputs": [
    {
     "name": "stdout",
     "output_type": "stream",
     "text": [
      "saved sucefully\n"
     ]
    }
   ],
   "source": [
    "# Assuming test_final is your DataFrame\n",
    "df_cleaned.to_csv('my_submission.csv', index=False)\n",
    "print(\"saved sucefully\")"
   ]
  },
  {
   "cell_type": "code",
   "execution_count": null,
   "id": "ac5fd43e",
   "metadata": {
    "execution": {
     "iopub.execute_input": "2025-01-04T09:08:54.879608Z",
     "iopub.status.busy": "2025-01-04T09:08:54.879340Z",
     "iopub.status.idle": "2025-01-04T09:08:56.258835Z",
     "shell.execute_reply": "2025-01-04T09:08:56.257770Z"
    },
    "papermill": {
     "duration": 1.386875,
     "end_time": "2025-01-04T09:08:56.260257",
     "exception": false,
     "start_time": "2025-01-04T09:08:54.873382",
     "status": "completed"
    },
    "tags": []
   },
   "outputs": [],
   "source": [
    "import shutil\n",
    "import os\n",
    "\n",
    "# Specify the folder path to delete\n",
    "folder_path = '/home/working/Images'\n",
    "\n",
    "# Check if the folder exists before attempting to delete\n",
    "if os.path.exists(folder_path):\n",
    "    shutil.rmtree(folder_path)  # Recursively delete the folder\n",
    "    print(f\"Folder '{folder_path}' and its contents have been deleted.\")\n",
    "else:\n",
    "    print(f\"Folder '{folder_path}' does not exist.\")\n"
   ]
  },
  {
   "cell_type": "code",
   "execution_count": null,
   "id": "2fa39e29",
   "metadata": {
    "execution": {
     "iopub.execute_input": "2025-01-04T09:08:56.271469Z",
     "iopub.status.busy": "2025-01-04T09:08:56.271180Z",
     "iopub.status.idle": "2025-01-04T09:09:02.007209Z",
     "shell.execute_reply": "2025-01-04T09:09:02.006269Z"
    },
    "papermill": {
     "duration": 5.744177,
     "end_time": "2025-01-04T09:09:02.009795",
     "exception": false,
     "start_time": "2025-01-04T09:08:56.265618",
     "status": "completed"
    },
    "tags": []
   },
   "outputs": [],
   "source": [
    "# Specify the folder path to delete\n",
    "folder_path = '/home/working/dataset_new'\n",
    "\n",
    "# Check if the folder exists before attempting to delete\n",
    "if os.path.exists(folder_path):\n",
    "    shutil.rmtree(folder_path)  # Recursively delete the folder\n",
    "    print(f\"Folder '{folder_path}' and its contents have been deleted.\")\n",
    "else:\n",
    "    print(f\"Folder '{folder_path}' does not exist.\")\n"
   ]
  },
  {
   "cell_type": "code",
   "execution_count": null,
   "id": "72e12bab",
   "metadata": {
    "execution": {
     "iopub.execute_input": "2025-01-04T09:09:02.020374Z",
     "iopub.status.busy": "2025-01-04T09:09:02.020079Z",
     "iopub.status.idle": "2025-01-04T09:09:05.321495Z",
     "shell.execute_reply": "2025-01-04T09:09:05.320489Z"
    },
    "papermill": {
     "duration": 3.308237,
     "end_time": "2025-01-04T09:09:05.322996",
     "exception": false,
     "start_time": "2025-01-04T09:09:02.014759",
     "status": "completed"
    },
    "tags": []
   },
   "outputs": [],
   "source": [
    "# Specify the folder path to delete\n",
    "folder_path = '/home/working/train_valid'\n",
    "\n",
    "# Check if the folder exists before attempting to delete\n",
    "if os.path.exists(folder_path):\n",
    "    shutil.rmtree(folder_path)  # Recursively delete the folder\n",
    "    print(f\"Folder '{folder_path}' and its contents have been deleted.\")\n",
    "else:\n",
    "    print(f\"Folder '{folder_path}' does not exist.\")\n"
   ]
  }
 ],
 "metadata": {
  "kaggle": {
   "accelerator": "gpu",
   "dataSources": [
    {
     "datasetId": 6359935,
     "sourceId": 10278213,
     "sourceType": "datasetVersion"
    },
    {
     "datasetId": 6360072,
     "sourceId": 10278381,
     "sourceType": "datasetVersion"
    },
    {
     "sourceId": 215795073,
     "sourceType": "kernelVersion"
    }
   ],
   "dockerImageVersionId": 30823,
   "isGpuEnabled": true,
   "isInternetEnabled": true,
   "language": "python",
   "sourceType": "notebook"
  },
  "kernelspec": {
   "display_name": "Python 3",
   "language": "python",
   "name": "python3"
  },
  "language_info": {
   "codemirror_mode": {
    "name": "ipython",
    "version": 3
   },
   "file_extension": ".py",
   "mimetype": "text/x-python",
   "name": "python",
   "nbconvert_exporter": "python",
   "pygments_lexer": "ipython3",
   "version": "3.10.12"
  },
  "papermill": {
   "default_parameters": {},
   "duration": 657.01257,
   "end_time": "2025-01-04T09:09:07.926627",
   "environment_variables": {},
   "exception": null,
   "input_path": "__notebook__.ipynb",
   "output_path": "__notebook__.ipynb",
   "parameters": {},
   "start_time": "2025-01-04T08:58:10.914057",
   "version": "2.6.0"
  }
 },
 "nbformat": 4,
 "nbformat_minor": 5
}
