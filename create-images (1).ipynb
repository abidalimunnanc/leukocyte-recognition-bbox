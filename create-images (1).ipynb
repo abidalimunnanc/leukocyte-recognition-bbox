{
 "cells": [
  {
   "cell_type": "code",
   "execution_count": 1,
   "id": "595736d1",
   "metadata": {
    "_cell_guid": "b1076dfc-b9ad-4769-8c92-a6c4dae69d19",
    "_uuid": "8f2839f25d086af736a60e9eeb907d3b93b6e0e5",
    "execution": {
     "iopub.execute_input": "2024-12-31T15:25:07.779666Z",
     "iopub.status.busy": "2024-12-31T15:25:07.779151Z",
     "iopub.status.idle": "2024-12-31T15:25:16.474724Z",
     "shell.execute_reply": "2024-12-31T15:25:16.473599Z"
    },
    "papermill": {
     "duration": 8.702987,
     "end_time": "2024-12-31T15:25:16.477040",
     "exception": false,
     "start_time": "2024-12-31T15:25:07.774053",
     "status": "completed"
    },
    "tags": []
   },
   "outputs": [],
   "source": [
    "import os\n",
    "import pandas as pd\n",
    "import numpy as np\n",
    "from sklearn.model_selection import train_test_split\n",
    "from torchvision import transforms\n",
    "from torch.utils.data import Dataset, DataLoader\n",
    "from PIL import Image\n",
    "import torch"
   ]
  },
  {
   "cell_type": "code",
   "execution_count": null,
   "id": "b1a270d9",
   "metadata": {
    "execution": {
     "iopub.execute_input": "2024-12-31T15:25:16.484593Z",
     "iopub.status.busy": "2024-12-31T15:25:16.483887Z",
     "iopub.status.idle": "2024-12-31T15:25:17.208205Z",
     "shell.execute_reply": "2024-12-31T15:25:17.206707Z"
    },
    "papermill": {
     "duration": 0.730423,
     "end_time": "2024-12-31T15:25:17.210637",
     "exception": false,
     "start_time": "2024-12-31T15:25:16.480214",
     "status": "completed"
    },
    "tags": []
   },
   "outputs": [],
   "source": [
    "data_dir = '/home/input/cytol-gia-data/'\n",
    "filepaths = []\n",
    "\n",
    "\n",
    "folds = os.listdir(data_dir)\n",
    "for fold in folds:\n",
    "    foldpath = os.path.join(data_dir, fold)\n",
    "    filelist = os.listdir(foldpath)\n",
    "    if fold in ['ig', 'neutrophil']:\n",
    "        continue\n",
    "    for file in filelist:\n",
    "        fpath = os.path.join(foldpath, file)\n",
    "        \n",
    "        filepaths.append(fpath)\n",
    "       \n",
    "\n",
    "# Concatenate data paths with labels into one dataframe\n",
    "Fseries = pd.Series(filepaths, name= 'filepaths')\n",
    "\n",
    "dff = pd.concat([Fseries], axis= 1)\n",
    "# Extract the file name from the path\n",
    "dff['NAME'] = dff['filepaths'].apply(lambda x: x.split('/')[-1])\n",
    "train = pd.read_csv(\"/home/input/csv-data-clyclo/cytologia-data-1732098640162.csv\")\n",
    "dfd = pd.merge(left = dff , right = train, on = 'NAME', how = 'inner')\n",
    "\n",
    "# # Assuming 'df' is your pandas DataFrame and 'class' is the column name\n",
    "\n",
    "# # Extract unique class labels\n",
    "# labels = dfd['class'].unique().tolist()\n",
    "# # Create a dictionary to map labels to integer IDs\n",
    "# label_to_id = {label: i for i, label in enumerate(labels)}\n",
    "# # Map the labels to integer IDs\n",
    "# dfd['class'] = dfd['class'].map(label_to_id)\n",
    "\n",
    "dfd.head()"
   ]
  },
  {
   "cell_type": "code",
   "execution_count": null,
   "id": "888c7701",
   "metadata": {
    "execution": {
     "iopub.execute_input": "2024-12-31T15:25:17.217507Z",
     "iopub.status.busy": "2024-12-31T15:25:17.217010Z",
     "iopub.status.idle": "2024-12-31T15:25:17.222695Z",
     "shell.execute_reply": "2024-12-31T15:25:17.221294Z"
    },
    "papermill": {
     "duration": 0.011739,
     "end_time": "2024-12-31T15:25:17.225180",
     "exception": false,
     "start_time": "2024-12-31T15:25:17.213441",
     "status": "completed"
    },
    "tags": []
   },
   "outputs": [],
   "source": [
    "# Create 'Image' folder in working directory (step 1)\n",
    "Images = os.path.join('/home/working/', 'Images')\n",
    "if not os.path.exists(Images) :\n",
    "    os.mkdir(Images)"
   ]
  },
  {
   "cell_type": "code",
   "execution_count": null,
   "id": "adbff44c",
   "metadata": {
    "execution": {
     "iopub.execute_input": "2024-12-31T15:25:17.232204Z",
     "iopub.status.busy": "2024-12-31T15:25:17.231757Z",
     "iopub.status.idle": "2024-12-31T15:28:45.963842Z",
     "shell.execute_reply": "2024-12-31T15:28:45.962092Z"
    },
    "papermill": {
     "duration": 208.738403,
     "end_time": "2024-12-31T15:28:45.966572",
     "exception": false,
     "start_time": "2024-12-31T15:25:17.228169",
     "status": "completed"
    },
    "tags": []
   },
   "outputs": [],
   "source": [
    "import pandas as pd\n",
    "import shutil\n",
    "import os\n",
    "\n",
    "df = dfd\n",
    "\n",
    "# Base directory for storing the images\n",
    "base_dir = '/home/working/Images'  # Replace with your desired destination folder\n",
    "\n",
    "# Ensure that the base directory exists\n",
    "if not os.path.exists(base_dir):\n",
    "    os.makedirs(base_dir)\n",
    "\n",
    "# Loop over each row in the DataFrame\n",
    "for index, row in df.iterrows():\n",
    "    file_path = row['filepaths']\n",
    "    image_name = row['NAME']\n",
    "    class_label = row['class']\n",
    "\n",
    "    # Create the class folder if it doesn't exist\n",
    "    class_folder = os.path.join(base_dir, str(class_label))\n",
    "    if not os.path.exists(class_folder):\n",
    "        os.makedirs(class_folder)\n",
    "    \n",
    "    # Full path of the image\n",
    "    image_path = file_path\n",
    "    \n",
    "    # Check if the image file exists\n",
    "    if os.path.exists(image_path):\n",
    "        # Copy the image to the respective class folder\n",
    "        destination_path = os.path.join(class_folder, image_name)\n",
    "        shutil.copy(image_path, destination_path)\n",
    "       \n",
    "    else:\n",
    "        print(f\"Image {image_name} not found at {image_path}\")\n"
   ]
  }
 ],
 "metadata": {
  "kaggle": {
   "accelerator": "none",
   "dataSources": [
    {
     "datasetId": 6384001,
     "sourceId": 10312445,
     "sourceType": "datasetVersion"
    },
    {
     "datasetId": 6383949,
     "sourceId": 10312373,
     "sourceType": "datasetVersion"
    }
   ],
   "isGpuEnabled": false,
   "isInternetEnabled": true,
   "language": "python",
   "sourceType": "notebook"
  },
  "kernelspec": {
   "display_name": "Python 3",
   "language": "python",
   "name": "python3"
  },
  "language_info": {
   "codemirror_mode": {
    "name": "ipython",
    "version": 3
   },
   "file_extension": ".py",
   "mimetype": "text/x-python",
   "name": "python",
   "nbconvert_exporter": "python",
   "pygments_lexer": "ipython3",
   "version": "3.10.12"
  },
  "papermill": {
   "default_parameters": {},
   "duration": 223.078981,
   "end_time": "2024-12-31T15:28:47.899382",
   "environment_variables": {},
   "exception": null,
   "input_path": "__notebook__.ipynb",
   "output_path": "__notebook__.ipynb",
   "parameters": {},
   "start_time": "2024-12-31T15:25:04.820401",
   "version": "2.6.0"
  }
 },
 "nbformat": 4,
 "nbformat_minor": 5
}
